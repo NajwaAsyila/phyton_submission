{
 "cells": [
  {
   "cell_type": "markdown",
   "id": "9b77a9e3",
   "metadata": {},
   "source": [
    "# first and second order reaction in reactors"
   ]
  },
  {
   "cell_type": "code",
   "execution_count": 14,
   "id": "b3c6b47b",
   "metadata": {},
   "outputs": [
    {
     "name": "stdout",
     "output_type": "stream",
     "text": [
      "The rate constant is: 2.3\n",
      "Time needed to reach given concentration of A is: 2 hours\n"
     ]
    }
   ],
   "source": [
    "# in the code we can make a loop to check whether the V is constant\n",
    "# otherwise print something\n",
    "# this might help you in the future\n",
    "import numpy as np\n",
    "\n",
    "def first_order_reaction_batch(C_ratio, t, V='constant'):\n",
    "    '''\n",
    "    Given the solved equation for an ideal batch reactor and the time, \n",
    "    this function returns the rate constant for a first order reaction.\n",
    "    Args:\n",
    "        C_ratio (float): Concentration of A, given by CA/CA0 ratio.\n",
    "        t (int): time necessary to reach given concentration of A.\n",
    "    returns:\n",
    "        k (float): rate constant.\n",
    "    '''\n",
    "    if V == 'constant':   \n",
    "        k = -np.log(C_ratio)/t\n",
    "    else:\n",
    "        print('V should be constant in this exercise')         \n",
    "    return k\n",
    "\n",
    "def first_order_time(C_ratio, k):\n",
    "    '''\n",
    "    Given the solved equation for an ideal batch reactor \n",
    "    and the previously calculated rate constant, \n",
    "    this function returns the time (how much longer the reaction \n",
    "    must continue to obtain CA/CA0 = 0.001).\n",
    "    \n",
    "    Args:\n",
    "        C_ratio (float): Concentration of A, given by CA/CA0 ratio.\n",
    "        k (float): rate constant.\n",
    "    returns:\n",
    "        t (int): time necessary to reach given concentration of A.\n",
    "    '''\n",
    "    t = -np.log(C_ratio)/k\n",
    "    return round(t)\n",
    "    \n",
    "t1 = 1\n",
    "CA_CA0_1h = 0.1\n",
    "CA_CA0_t = 0.001\n",
    "k_first_order = first_order_reaction_batch(CA_CA0_1h, t1)\n",
    "print(f'The rate constant is: {round(k_first_order, 2)}')\n",
    "t2 = first_order_time(CA_CA0_t, k_first_order)\n",
    "\n",
    "time = t2 - t1\n",
    "print(f\"Time needed to reach given concentration of A is: {time} hours\")"
   ]
  },
  {
   "cell_type": "code",
   "execution_count": 15,
   "id": "2486dae5",
   "metadata": {},
   "outputs": [
    {
     "name": "stdout",
     "output_type": "stream",
     "text": [
      "The rate constant is: 9.0\n",
      "Time needed to reach given concentration of A is: 110.0 hours\n"
     ]
    }
   ],
   "source": [
    "def second_order_reaction_batch(C_ratio, t, V='constant'):\n",
    "    if V == 'constant':\n",
    "        k_CA0 = 1/t*(1/C_ratio - 1)\n",
    "    else:\n",
    "        print('V should be constant in this exercise')         \n",
    "    return k_CA0\n",
    "\n",
    "def second_order_time(C_ratio, k):\n",
    "    return 1/k*(1/C_ratio -1)\n",
    "\n",
    "k_second_order = second_order_reaction_batch(CA_CA0_1h, t1)\n",
    "print(f'The rate constant is: {k_second_order}')\n",
    "t2 = second_order_time(CA_CA0_t, k_second_order)\n",
    "\n",
    "time = t2 - t1\n",
    "print(f\"Time needed to reach given concentration of A is: {time} hours\")\n"
   ]
  },
  {
   "cell_type": "markdown",
   "id": "e2b50013",
   "metadata": {},
   "source": [
    "### combination of first and second order"
   ]
  },
  {
   "cell_type": "code",
   "execution_count": 16,
   "id": "e08ce430",
   "metadata": {},
   "outputs": [
    {
     "name": "stdout",
     "output_type": "stream",
     "text": [
      "Rate constant and time for first order batch reaction:\n",
      "2.3025850929940455\n",
      "2.0\n",
      "\n",
      "Rate constant and time for second order batch reaction:\n",
      "9.0\n",
      "110.0\n"
     ]
    }
   ],
   "source": [
    "def reaction_batch(C_ratio, t, order):\n",
    "    \n",
    "    if order == 'first':\n",
    "        k = -np.log(C_ratio)/t\n",
    "        \n",
    "    elif order == 'second':\n",
    "        k = 1/t*(1/C_ratio - 1)\n",
    "        \n",
    "    else:\n",
    "        print('Provide the order of the reaction as a string')\n",
    "        \n",
    "    return k\n",
    "\n",
    "def calculate_time(C_ratio, k, order):\n",
    "    \n",
    "    if order == 'first':\n",
    "        t = -np.log(C_ratio)/k\n",
    "        \n",
    "    elif order == 'second':\n",
    "        t = 1/k*(1/C_ratio -1)\n",
    "    \n",
    "    else:\n",
    "        print('Provide the order of the reaction as a string')\n",
    "        \n",
    "    return round(t, 2)\n",
    "\n",
    "print('Rate constant and time for first order batch reaction:')\n",
    "k_first_order = reaction_batch(CA_CA0_1h, t1, 'first')\n",
    "print(k_first_order)\n",
    "print(calculate_time(CA_CA0_t, k_first_order, 'first')-t1)\n",
    "print()\n",
    "print('Rate constant and time for second order batch reaction:')\n",
    "k_second_order = reaction_batch(CA_CA0_1h, t1, 'second')\n",
    "print(k_second_order)\n",
    "print(calculate_time(CA_CA0_t, k_second_order, 'second')-t1)\n"
   ]
  },
  {
   "cell_type": "markdown",
   "id": "48d6221b",
   "metadata": {},
   "source": [
    "# residence time in CTSR"
   ]
  },
  {
   "cell_type": "code",
   "execution_count": 17,
   "id": "e70c13ca",
   "metadata": {},
   "outputs": [
    {
     "name": "stdout",
     "output_type": "stream",
     "text": [
      "The residence time in a CSTR with n=1 is: 434 h\n"
     ]
    }
   ],
   "source": [
    "def first_order_reaction_CSTR(C_ratio, k, density='constant'):\n",
    "    if density == 'constant':\n",
    "        tau = 1/k*((1-C_ratio)/C_ratio)\n",
    "    else: \n",
    "        print('Density should be constant in this exercise')\n",
    "    return round(tau)\n",
    "\n",
    "print(f'The residence time in a CSTR with n=1 is: {first_order_reaction_CSTR(CA_CA0_t, k_first_order)} h')"
   ]
  },
  {
   "cell_type": "code",
   "execution_count": 18,
   "id": "fbda38b0",
   "metadata": {},
   "outputs": [
    {
     "name": "stdout",
     "output_type": "stream",
     "text": [
      "The residence time in a CSTR with n=2 is: 111000 h\n"
     ]
    }
   ],
   "source": [
    "def second_order_reaction_CSTR(C_ratio, k, density='constant'):\n",
    "    if density == 'constant':\n",
    "        tau = (1/k)*((1-C_ratio)/C_ratio**2)\n",
    "    else: \n",
    "        print('Density should be constant in this exercise')\n",
    "    return round(tau)\n",
    "\n",
    "print(f'The residence time in a CSTR with n=2 is: {second_order_reaction_CSTR(CA_CA0_t, k_second_order)} h')"
   ]
  },
  {
   "cell_type": "markdown",
   "id": "786248d0",
   "metadata": {},
   "source": [
    "## source link: https://github.com/FiammettaC/Chemical-Reaction-Engineering-in-Python/blob/main/week04/theory/1_reactors_in_python.ipynb"
   ]
  }
 ],
 "metadata": {
  "kernelspec": {
   "display_name": "Python 3 (ipykernel)",
   "language": "python",
   "name": "python3"
  },
  "language_info": {
   "codemirror_mode": {
    "name": "ipython",
    "version": 3
   },
   "file_extension": ".py",
   "mimetype": "text/x-python",
   "name": "python",
   "nbconvert_exporter": "python",
   "pygments_lexer": "ipython3",
   "version": "3.11.5"
  }
 },
 "nbformat": 4,
 "nbformat_minor": 5
}
