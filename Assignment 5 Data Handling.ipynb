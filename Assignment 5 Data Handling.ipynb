{
 "cells": [
  {
   "cell_type": "code",
   "execution_count": 9,
   "id": "216d60c2",
   "metadata": {},
   "outputs": [],
   "source": [
    "import csv\n",
    "def process_students_file(input_file, output_file):\n",
    "    with open('students.csv', mode='r', newline='') as file:\n",
    "        reader = csv.DictReader (file)\n",
    "  # newline is not compulsory\n",
    "# filtering data\n",
    "        filtered_students = []\n",
    "        for row in reader:\n",
    "            if row ['Grade'] in ['A','B']: #Check if grade is A or B\n",
    "                row ['Status'] = 'Passed' #Add status column\n",
    "                filtered_students.append(row)\n",
    "            \n",
    "\n",
    "#Write to a new CSV file\n",
    "    if filtered_students:\n",
    "        with open('top_students_2.csv', mode='w', newline='') as file:\n",
    "            writer = csv.DictWriter(file, fieldnames=filtered_students[0].keys())\n",
    "            writer.writeheader()\n",
    "            writer.writerows(filtered_students)\n",
    "            \n",
    "process_students_file('students.csv', 'top_students_2.csv')"
   ]
  },
  {
   "cell_type": "code",
   "execution_count": null,
   "id": "015539cb",
   "metadata": {},
   "outputs": [],
   "source": []
  }
 ],
 "metadata": {
  "kernelspec": {
   "display_name": "Python 3 (ipykernel)",
   "language": "python",
   "name": "python3"
  },
  "language_info": {
   "codemirror_mode": {
    "name": "ipython",
    "version": 3
   },
   "file_extension": ".py",
   "mimetype": "text/x-python",
   "name": "python",
   "nbconvert_exporter": "python",
   "pygments_lexer": "ipython3",
   "version": "3.11.5"
  }
 },
 "nbformat": 4,
 "nbformat_minor": 5
}
