{
 "cells": [
  {
   "cell_type": "markdown",
   "id": "7e812f93",
   "metadata": {},
   "source": [
    "# Question 1"
   ]
  },
  {
   "cell_type": "code",
   "execution_count": 26,
   "id": "b23df921",
   "metadata": {},
   "outputs": [
    {
     "ename": "TypeError",
     "evalue": "'module' object is not callable",
     "output_type": "error",
     "traceback": [
      "\u001b[0;31m---------------------------------------------------------------------------\u001b[0m",
      "\u001b[0;31mTypeError\u001b[0m                                 Traceback (most recent call last)",
      "Cell \u001b[0;32mIn[26], line 16\u001b[0m\n\u001b[1;32m     13\u001b[0m t \u001b[38;5;241m=\u001b[39m np\u001b[38;5;241m.\u001b[39mlinspace(start,end)\n\u001b[1;32m     15\u001b[0m \u001b[38;5;66;03m#solving ode\u001b[39;00m\n\u001b[0;32m---> 16\u001b[0m A \u001b[38;5;241m=\u001b[39m sc\u001b[38;5;241m.\u001b[39mintegrate(dydt,y0,t)\n\u001b[1;32m     18\u001b[0m \u001b[38;5;66;03m#plotting\u001b[39;00m\n\u001b[1;32m     19\u001b[0m plt\u001b[38;5;241m.\u001b[39mfigure()\n",
      "\u001b[0;31mTypeError\u001b[0m: 'module' object is not callable"
     ]
    }
   ],
   "source": [
    "import numpy as np\n",
    "import matplotlib.pyplot as plt\n",
    "import scipy as sc\n",
    "\n",
    "def dydt(y,t):\n",
    "    dydt = -2*y*t\n",
    "    return dydt\n",
    "\n",
    "#initial condition\n",
    "y0 = 1\n",
    "start = 0\n",
    "end = 20\n",
    "t = np.linspace(start,end)\n",
    "\n",
    "#solving ode\n",
    "A = sc.integrate(dydt,y0,t)\n",
    "    \n",
    "#plotting\n",
    "plt.figure()\n",
    "plt.plot(x,y)\n",
    "plt.title('y(t) versus t graph')\n",
    "plt.xlabel('t')\n",
    "plt.ylabel('y(t)')\n"
   ]
  },
  {
   "cell_type": "markdown",
   "id": "27581b76",
   "metadata": {},
   "source": [
    "# Question 2"
   ]
  },
  {
   "cell_type": "code",
   "execution_count": 19,
   "id": "6f7215cc",
   "metadata": {},
   "outputs": [
    {
     "name": "stdout",
     "output_type": "stream",
     "text": [
      "[[2 4 6]\n",
      " [5 3 2]\n",
      " [7 8 9]]\n"
     ]
    }
   ],
   "source": [
    "import numpy as np\n",
    "import scipy as sc\n",
    "\n",
    "#Defining matrix A\n",
    "A = np.array([[2,4,6],[5,3,2],[7,8,9]])\n",
    "print(A)"
   ]
  },
  {
   "cell_type": "code",
   "execution_count": 22,
   "id": "a4e75a72",
   "metadata": {},
   "outputs": [
    {
     "name": "stdout",
     "output_type": "stream",
     "text": [
      "[[18]\n",
      " [13]\n",
      " [30]]\n"
     ]
    }
   ],
   "source": [
    "#define matrix B\n",
    "B = np.array([[18],[13],[30]])\n",
    "print(B)"
   ]
  },
  {
   "cell_type": "code",
   "execution_count": 23,
   "id": "4b2eda56",
   "metadata": {},
   "outputs": [
    {
     "name": "stdout",
     "output_type": "stream",
     "text": [
      "[[ 4.5]\n",
      " [-7.5]\n",
      " [ 6.5]]\n"
     ]
    }
   ],
   "source": [
    "#solving vector\n",
    "C = np.linalg.solve(A,B)\n",
    "print (C)"
   ]
  },
  {
   "cell_type": "markdown",
   "id": "1bdf651e",
   "metadata": {},
   "source": [
    "# Question 3"
   ]
  },
  {
   "cell_type": "code",
   "execution_count": 29,
   "id": "4a4718bb",
   "metadata": {},
   "outputs": [],
   "source": [
    "import requests\n",
    "api_url=\"https://api.open-meteo.com/v1/forecast?latitude=2.375&longitude=112.5&hourly=temperature_2m&timezone=Asia%2FSingapore&forecast_days=1.json\"\n",
    "response = requests.get(api_url)\n",
    "hourly_temperature_data=response.json()"
   ]
  },
  {
   "cell_type": "code",
   "execution_count": 40,
   "id": "6c93a2c8",
   "metadata": {},
   "outputs": [
    {
     "ename": "TypeError",
     "evalue": "string indices must be integers, not 'str'",
     "output_type": "error",
     "traceback": [
      "\u001b[0;31m---------------------------------------------------------------------------\u001b[0m",
      "\u001b[0;31mTypeError\u001b[0m                                 Traceback (most recent call last)",
      "Cell \u001b[0;32mIn[40], line 4\u001b[0m\n\u001b[1;32m      2\u001b[0m     \u001b[38;5;28mprint\u001b[39m(\u001b[38;5;124m\"\u001b[39m\u001b[38;5;124mInsert number of days from 1 to 16:\u001b[39m\u001b[38;5;124m\"\u001b[39m)\n\u001b[1;32m      3\u001b[0m \u001b[38;5;28;01mfor\u001b[39;00m N \u001b[38;5;129;01min\u001b[39;00m \u001b[38;5;28mrange\u001b[39m(\u001b[38;5;241m1\u001b[39m,\u001b[38;5;241m6\u001b[39m):\n\u001b[0;32m----> 4\u001b[0m     days \u001b[38;5;241m=\u001b[39m api_url[\u001b[38;5;124m\"\u001b[39m\u001b[38;5;124mdays\u001b[39m\u001b[38;5;124m\"\u001b[39m]\n",
      "\u001b[0;31mTypeError\u001b[0m: string indices must be integers, not 'str'"
     ]
    }
   ],
   "source": [
    "def input(N,forecast):\n",
    "    print(\"Insert number of days from 1 to 16:\")\n",
    "for N in range(1,6):\n",
    "    days = api_url[\"days\"]"
   ]
  },
  {
   "cell_type": "code",
   "execution_count": null,
   "id": "71a0a1a6",
   "metadata": {},
   "outputs": [],
   "source": []
  }
 ],
 "metadata": {
  "kernelspec": {
   "display_name": "Python 3 (ipykernel)",
   "language": "python",
   "name": "python3"
  },
  "language_info": {
   "codemirror_mode": {
    "name": "ipython",
    "version": 3
   },
   "file_extension": ".py",
   "mimetype": "text/x-python",
   "name": "python",
   "nbconvert_exporter": "python",
   "pygments_lexer": "ipython3",
   "version": "3.11.5"
  }
 },
 "nbformat": 4,
 "nbformat_minor": 5
}
