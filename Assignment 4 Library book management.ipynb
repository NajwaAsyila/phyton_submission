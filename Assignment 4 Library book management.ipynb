{
 "cells": [
  {
   "attachments": {},
   "cell_type": "markdown",
   "id": "a0c4459e",
   "metadata": {},
   "source": [
    "## Exercise: Library Book Management"
   ]
  },
  {
   "cell_type": "code",
   "execution_count": 1,
   "id": "639fa17e",
   "metadata": {},
   "outputs": [],
   "source": [
    "# Objective:\n",
    "\n",
    "# Create a Python function to manage book checkouts at a library. The function will handle the checkout process, \n",
    "# including who is checking out the book, for how long, \n",
    "# and any special handling or conditions that need to be applied to the checkout.\n",
    "\n",
    "# Instructions:\n",
    "\n",
    "# Write a function named checkout_books with the following specifications:\n",
    "\n",
    "# It should take a required argument librarian_name as a positional argument, \n",
    "# representing the name of the librarian processing the checkout.\n",
    "# It should accept one or more book_titles as positional arguments, representing the books being checked out.\n",
    "# Include a keyword argument duration with a default value of '2 weeks', \n",
    "# representing the standard checkout duration.\n",
    "# Use **kwargs to accept additional information about the checkout, \n",
    "# such as late_fee per day or any special_conditions to be noted.\n"
   ]
  },
  {
   "cell_type": "code",
   "execution_count": null,
   "id": "ea61dffb",
   "metadata": {},
   "outputs": [],
   "source": [
    "def checkout_books(librarian_name , **book_titles , **additional_information)\n",
    "    print(\"librarian processing the checkout \")"
   ]
  }
 ],
 "metadata": {
  "kernelspec": {
   "display_name": "Python 3 (ipykernel)",
   "language": "python",
   "name": "python3"
  },
  "language_info": {
   "codemirror_mode": {
    "name": "ipython",
    "version": 3
   },
   "file_extension": ".py",
   "mimetype": "text/x-python",
   "name": "python",
   "nbconvert_exporter": "python",
   "pygments_lexer": "ipython3",
   "version": "3.11.5"
  }
 },
 "nbformat": 4,
 "nbformat_minor": 5
}
